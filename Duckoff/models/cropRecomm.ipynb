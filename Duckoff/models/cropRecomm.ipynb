{
 "cells": [
  {
   "cell_type": "code",
   "execution_count": 1,
   "metadata": {
    "execution": {
     "iopub.status.idle": "2021-04-22T14:10:35.704121Z",
     "shell.execute_reply": "2021-04-22T14:10:35.704121Z",
     "shell.execute_reply.started": "2021-04-22T14:10:33.206074Z"
    }
   },
   "outputs": [],
   "source": [
    "import numpy as np\n",
    "import pandas as pd\n",
    "import matplotlib.pyplot as plt\n",
    "%matplotlib inline\n",
    "import seaborn as sns\n",
    "import os\n",
    "import sys\n",
    "import warnings\n",
    "warnings.filterwarnings('ignore')"
   ]
  },
  {
   "cell_type": "code",
   "execution_count": 2,
   "metadata": {
    "execution": {
     "iopub.execute_input": "2021-04-22T14:10:35.705119Z",
     "iopub.status.busy": "2021-04-22T14:10:35.705119Z",
     "iopub.status.idle": "2021-04-22T14:10:37.384412Z",
     "shell.execute_reply": "2021-04-22T14:10:37.383411Z",
     "shell.execute_reply.started": "2021-04-22T14:10:35.705119Z"
    }
   },
   "outputs": [
    {
     "data": {
      "text/html": [
       "<div>\n",
       "<style scoped>\n",
       "    .dataframe tbody tr th:only-of-type {\n",
       "        vertical-align: middle;\n",
       "    }\n",
       "\n",
       "    .dataframe tbody tr th {\n",
       "        vertical-align: top;\n",
       "    }\n",
       "\n",
       "    .dataframe thead th {\n",
       "        text-align: right;\n",
       "    }\n",
       "</style>\n",
       "<table border=\"1\" class=\"dataframe\">\n",
       "  <thead>\n",
       "    <tr style=\"text-align: right;\">\n",
       "      <th></th>\n",
       "      <th>N</th>\n",
       "      <th>P</th>\n",
       "      <th>K</th>\n",
       "      <th>temperature</th>\n",
       "      <th>humidity</th>\n",
       "      <th>ph</th>\n",
       "      <th>rainfall</th>\n",
       "      <th>label</th>\n",
       "    </tr>\n",
       "  </thead>\n",
       "  <tbody>\n",
       "    <tr>\n",
       "      <th>1466</th>\n",
       "      <td>111</td>\n",
       "      <td>15</td>\n",
       "      <td>54</td>\n",
       "      <td>27.705837</td>\n",
       "      <td>92.911857</td>\n",
       "      <td>6.194090</td>\n",
       "      <td>22.062072</td>\n",
       "      <td>muskmelon</td>\n",
       "    </tr>\n",
       "    <tr>\n",
       "      <th>1009</th>\n",
       "      <td>105</td>\n",
       "      <td>77</td>\n",
       "      <td>52</td>\n",
       "      <td>29.162266</td>\n",
       "      <td>76.161516</td>\n",
       "      <td>5.816622</td>\n",
       "      <td>100.007568</td>\n",
       "      <td>banana</td>\n",
       "    </tr>\n",
       "    <tr>\n",
       "      <th>676</th>\n",
       "      <td>22</td>\n",
       "      <td>37</td>\n",
       "      <td>20</td>\n",
       "      <td>27.627495</td>\n",
       "      <td>86.493669</td>\n",
       "      <td>6.605733</td>\n",
       "      <td>39.261376</td>\n",
       "      <td>mungbean</td>\n",
       "    </tr>\n",
       "    <tr>\n",
       "      <th>1200</th>\n",
       "      <td>24</td>\n",
       "      <td>130</td>\n",
       "      <td>195</td>\n",
       "      <td>29.996772</td>\n",
       "      <td>81.541566</td>\n",
       "      <td>6.112306</td>\n",
       "      <td>67.125345</td>\n",
       "      <td>grapes</td>\n",
       "    </tr>\n",
       "    <tr>\n",
       "      <th>197</th>\n",
       "      <td>60</td>\n",
       "      <td>54</td>\n",
       "      <td>19</td>\n",
       "      <td>18.748267</td>\n",
       "      <td>62.498785</td>\n",
       "      <td>6.417820</td>\n",
       "      <td>70.234016</td>\n",
       "      <td>maize</td>\n",
       "    </tr>\n",
       "    <tr>\n",
       "      <th>1559</th>\n",
       "      <td>29</td>\n",
       "      <td>139</td>\n",
       "      <td>205</td>\n",
       "      <td>23.641424</td>\n",
       "      <td>93.744615</td>\n",
       "      <td>6.155939</td>\n",
       "      <td>116.691218</td>\n",
       "      <td>apple</td>\n",
       "    </tr>\n",
       "    <tr>\n",
       "      <th>1375</th>\n",
       "      <td>88</td>\n",
       "      <td>5</td>\n",
       "      <td>47</td>\n",
       "      <td>25.864755</td>\n",
       "      <td>86.674680</td>\n",
       "      <td>6.662245</td>\n",
       "      <td>41.165548</td>\n",
       "      <td>watermelon</td>\n",
       "    </tr>\n",
       "    <tr>\n",
       "      <th>942</th>\n",
       "      <td>4</td>\n",
       "      <td>24</td>\n",
       "      <td>43</td>\n",
       "      <td>22.404235</td>\n",
       "      <td>88.150834</td>\n",
       "      <td>7.199504</td>\n",
       "      <td>109.869520</td>\n",
       "      <td>pomegranate</td>\n",
       "    </tr>\n",
       "    <tr>\n",
       "      <th>1278</th>\n",
       "      <td>39</td>\n",
       "      <td>129</td>\n",
       "      <td>203</td>\n",
       "      <td>34.389225</td>\n",
       "      <td>83.183928</td>\n",
       "      <td>5.863997</td>\n",
       "      <td>71.030016</td>\n",
       "      <td>grapes</td>\n",
       "    </tr>\n",
       "    <tr>\n",
       "      <th>764</th>\n",
       "      <td>52</td>\n",
       "      <td>58</td>\n",
       "      <td>16</td>\n",
       "      <td>30.640958</td>\n",
       "      <td>61.145086</td>\n",
       "      <td>7.167436</td>\n",
       "      <td>71.369475</td>\n",
       "      <td>blackgram</td>\n",
       "    </tr>\n",
       "  </tbody>\n",
       "</table>\n",
       "</div>"
      ],
      "text/plain": [
       "        N    P    K  temperature   humidity        ph    rainfall        label\n",
       "1466  111   15   54    27.705837  92.911857  6.194090   22.062072    muskmelon\n",
       "1009  105   77   52    29.162266  76.161516  5.816622  100.007568       banana\n",
       "676    22   37   20    27.627495  86.493669  6.605733   39.261376     mungbean\n",
       "1200   24  130  195    29.996772  81.541566  6.112306   67.125345       grapes\n",
       "197    60   54   19    18.748267  62.498785  6.417820   70.234016        maize\n",
       "1559   29  139  205    23.641424  93.744615  6.155939  116.691218        apple\n",
       "1375   88    5   47    25.864755  86.674680  6.662245   41.165548   watermelon\n",
       "942     4   24   43    22.404235  88.150834  7.199504  109.869520  pomegranate\n",
       "1278   39  129  203    34.389225  83.183928  5.863997   71.030016       grapes\n",
       "764    52   58   16    30.640958  61.145086  7.167436   71.369475    blackgram"
      ]
     },
     "execution_count": 2,
     "metadata": {},
     "output_type": "execute_result"
    }
   ],
   "source": [
    "df = pd.read_csv('Crop_recommendation.csv')\n",
    "df.sample(10)"
   ]
  },
  {
   "cell_type": "code",
   "execution_count": 3,
   "metadata": {
    "execution": {
     "iopub.execute_input": "2021-04-22T14:10:37.385412Z",
     "iopub.status.busy": "2021-04-22T14:10:37.385412Z",
     "iopub.status.idle": "2021-04-22T14:10:37.400423Z",
     "shell.execute_reply": "2021-04-22T14:10:37.399423Z",
     "shell.execute_reply.started": "2021-04-22T14:10:37.385412Z"
    }
   },
   "outputs": [
    {
     "data": {
      "text/plain": [
       "N              0\n",
       "P              0\n",
       "K              0\n",
       "temperature    0\n",
       "humidity       0\n",
       "ph             0\n",
       "rainfall       0\n",
       "label          0\n",
       "dtype: int64"
      ]
     },
     "execution_count": 3,
     "metadata": {},
     "output_type": "execute_result"
    }
   ],
   "source": [
    "df.isnull().sum()"
   ]
  },
  {
   "cell_type": "code",
   "execution_count": 4,
   "metadata": {
    "execution": {
     "iopub.execute_input": "2021-04-22T14:10:37.401420Z",
     "iopub.status.busy": "2021-04-22T14:10:37.401420Z",
     "iopub.status.idle": "2021-04-22T14:10:37.432426Z",
     "shell.execute_reply": "2021-04-22T14:10:37.431423Z",
     "shell.execute_reply.started": "2021-04-22T14:10:37.401420Z"
    }
   },
   "outputs": [
    {
     "data": {
      "text/html": [
       "<div>\n",
       "<style scoped>\n",
       "    .dataframe tbody tr th:only-of-type {\n",
       "        vertical-align: middle;\n",
       "    }\n",
       "\n",
       "    .dataframe tbody tr th {\n",
       "        vertical-align: top;\n",
       "    }\n",
       "\n",
       "    .dataframe thead th {\n",
       "        text-align: right;\n",
       "    }\n",
       "</style>\n",
       "<table border=\"1\" class=\"dataframe\">\n",
       "  <thead>\n",
       "    <tr style=\"text-align: right;\">\n",
       "      <th></th>\n",
       "      <th>N</th>\n",
       "      <th>P</th>\n",
       "      <th>K</th>\n",
       "      <th>temperature</th>\n",
       "      <th>humidity</th>\n",
       "      <th>ph</th>\n",
       "      <th>rainfall</th>\n",
       "    </tr>\n",
       "  </thead>\n",
       "  <tbody>\n",
       "    <tr>\n",
       "      <th>count</th>\n",
       "      <td>2200.000000</td>\n",
       "      <td>2200.000000</td>\n",
       "      <td>2200.000000</td>\n",
       "      <td>2200.000000</td>\n",
       "      <td>2200.000000</td>\n",
       "      <td>2200.000000</td>\n",
       "      <td>2200.000000</td>\n",
       "    </tr>\n",
       "    <tr>\n",
       "      <th>mean</th>\n",
       "      <td>50.551818</td>\n",
       "      <td>53.362727</td>\n",
       "      <td>48.149091</td>\n",
       "      <td>25.616244</td>\n",
       "      <td>71.481779</td>\n",
       "      <td>6.469480</td>\n",
       "      <td>103.463655</td>\n",
       "    </tr>\n",
       "    <tr>\n",
       "      <th>std</th>\n",
       "      <td>36.917334</td>\n",
       "      <td>32.985883</td>\n",
       "      <td>50.647931</td>\n",
       "      <td>5.063749</td>\n",
       "      <td>22.263812</td>\n",
       "      <td>0.773938</td>\n",
       "      <td>54.958389</td>\n",
       "    </tr>\n",
       "    <tr>\n",
       "      <th>min</th>\n",
       "      <td>0.000000</td>\n",
       "      <td>5.000000</td>\n",
       "      <td>5.000000</td>\n",
       "      <td>8.825675</td>\n",
       "      <td>14.258040</td>\n",
       "      <td>3.504752</td>\n",
       "      <td>20.211267</td>\n",
       "    </tr>\n",
       "    <tr>\n",
       "      <th>25%</th>\n",
       "      <td>21.000000</td>\n",
       "      <td>28.000000</td>\n",
       "      <td>20.000000</td>\n",
       "      <td>22.769375</td>\n",
       "      <td>60.261953</td>\n",
       "      <td>5.971693</td>\n",
       "      <td>64.551686</td>\n",
       "    </tr>\n",
       "    <tr>\n",
       "      <th>50%</th>\n",
       "      <td>37.000000</td>\n",
       "      <td>51.000000</td>\n",
       "      <td>32.000000</td>\n",
       "      <td>25.598693</td>\n",
       "      <td>80.473146</td>\n",
       "      <td>6.425045</td>\n",
       "      <td>94.867624</td>\n",
       "    </tr>\n",
       "    <tr>\n",
       "      <th>75%</th>\n",
       "      <td>84.250000</td>\n",
       "      <td>68.000000</td>\n",
       "      <td>49.000000</td>\n",
       "      <td>28.561654</td>\n",
       "      <td>89.948771</td>\n",
       "      <td>6.923643</td>\n",
       "      <td>124.267508</td>\n",
       "    </tr>\n",
       "    <tr>\n",
       "      <th>max</th>\n",
       "      <td>140.000000</td>\n",
       "      <td>145.000000</td>\n",
       "      <td>205.000000</td>\n",
       "      <td>43.675493</td>\n",
       "      <td>99.981876</td>\n",
       "      <td>9.935091</td>\n",
       "      <td>298.560117</td>\n",
       "    </tr>\n",
       "  </tbody>\n",
       "</table>\n",
       "</div>"
      ],
      "text/plain": [
       "                 N            P            K  temperature     humidity  \\\n",
       "count  2200.000000  2200.000000  2200.000000  2200.000000  2200.000000   \n",
       "mean     50.551818    53.362727    48.149091    25.616244    71.481779   \n",
       "std      36.917334    32.985883    50.647931     5.063749    22.263812   \n",
       "min       0.000000     5.000000     5.000000     8.825675    14.258040   \n",
       "25%      21.000000    28.000000    20.000000    22.769375    60.261953   \n",
       "50%      37.000000    51.000000    32.000000    25.598693    80.473146   \n",
       "75%      84.250000    68.000000    49.000000    28.561654    89.948771   \n",
       "max     140.000000   145.000000   205.000000    43.675493    99.981876   \n",
       "\n",
       "                ph     rainfall  \n",
       "count  2200.000000  2200.000000  \n",
       "mean      6.469480   103.463655  \n",
       "std       0.773938    54.958389  \n",
       "min       3.504752    20.211267  \n",
       "25%       5.971693    64.551686  \n",
       "50%       6.425045    94.867624  \n",
       "75%       6.923643   124.267508  \n",
       "max       9.935091   298.560117  "
      ]
     },
     "execution_count": 4,
     "metadata": {},
     "output_type": "execute_result"
    }
   ],
   "source": [
    "df.describe()"
   ]
  },
  {
   "cell_type": "code",
   "execution_count": 5,
   "metadata": {
    "execution": {
     "iopub.execute_input": "2021-04-22T14:10:37.434428Z",
     "iopub.status.busy": "2021-04-22T14:10:37.433424Z",
     "iopub.status.idle": "2021-04-22T14:10:37.670431Z",
     "shell.execute_reply": "2021-04-22T14:10:37.670431Z",
     "shell.execute_reply.started": "2021-04-22T14:10:37.434428Z"
    }
   },
   "outputs": [
    {
     "data": {
      "image/png": "[encoded data removed]",
      "text/plain": [
       "<Figure size 1080x648 with 1 Axes>"
      ]
     },
     "metadata": {
      "needs_background": "light"
     },
     "output_type": "display_data"
    }
   ],
   "source": [
    "fig, ax = plt.subplots(1, 1, figsize=(15, 9))\n",
    "sns.countplot(data=df, x='label')\n",
    "ax.set(xlabel='Crop')\n",
    "ax.set(ylabel='Count')\n",
    "plt.xticks(rotation=45)\n",
    "\n",
    "plt.title('Count of crop', fontsize = 20, c='black')\n",
    "plt.show()"
   ]
  },
  {
   "cell_type": "code",
   "execution_count": 6,
   "metadata": {
    "execution": {
     "iopub.execute_input": "2021-04-22T14:10:37.672433Z",
     "iopub.status.busy": "2021-04-22T14:10:37.671435Z",
     "iopub.status.idle": "2021-04-22T14:10:38.019202Z",
     "shell.execute_reply": "2021-04-22T14:10:38.018203Z",
     "shell.execute_reply.started": "2021-04-22T14:10:37.671435Z"
    }
   },
   "outputs": [
    {
     "data": {
      "image/png": "[encoded data removed]",
      "text/plain": [
       "<Figure size 1080x648 with 2 Axes>"
      ]
     },
     "metadata": {
      "needs_background": "light"
     },
     "output_type": "display_data"
    }
   ],
   "source": [
    "fig, ax = plt.subplots(1, 1, figsize=(15, 9))\n",
    "sns.heatmap(df.corr(), annot=True)\n",
    "ax.set(xlabel='features')\n",
    "ax.set(ylabel='features')\n",
    "\n",
    "plt.title('Correlation between different features', fontsize = 20, c='black')\n",
    "plt.show()"
   ]
  },
  {
   "cell_type": "code",
   "execution_count": null,
   "metadata": {},
   "outputs": [],
   "source": []
  },
  {
   "cell_type": "code",
   "execution_count": 7,
   "metadata": {
    "execution": {
     "iopub.execute_input": "2021-04-22T14:10:38.019202Z",
     "iopub.status.busy": "2021-04-22T14:10:38.019202Z",
     "iopub.status.idle": "2021-04-22T14:10:38.035203Z",
     "shell.execute_reply": "2021-04-22T14:10:38.034199Z",
     "shell.execute_reply.started": "2021-04-22T14:10:38.019202Z"
    }
   },
   "outputs": [],
   "source": [
    "target = ['label']\n",
    "features = ['N', 'P', 'K', 'temperature', 'humidity', 'ph', 'rainfall']\n",
    "\n",
    "X = df[features]\n",
    "y = df[target]"
   ]
  },
  {
   "cell_type": "code",
   "execution_count": 8,
   "metadata": {
    "execution": {
     "iopub.execute_input": "2021-04-22T14:10:38.036203Z",
     "iopub.status.busy": "2021-04-22T14:10:38.036203Z",
     "iopub.status.idle": "2021-04-22T14:10:38.051205Z",
     "shell.execute_reply": "2021-04-22T14:10:38.050204Z",
     "shell.execute_reply.started": "2021-04-22T14:10:38.036203Z"
    }
   },
   "outputs": [],
   "source": [
    "# X_train, X_test, y_train, y_test = train_test_split(X, y, test_size=0.33, random_state=42, shuffle=True)"
   ]
  },
  {
   "cell_type": "code",
   "execution_count": 9,
   "metadata": {
    "execution": {
     "iopub.execute_input": "2021-04-22T14:10:38.054202Z",
     "iopub.status.busy": "2021-04-22T14:10:38.054202Z",
     "iopub.status.idle": "2021-04-22T14:10:38.067201Z",
     "shell.execute_reply": "2021-04-22T14:10:38.066202Z",
     "shell.execute_reply.started": "2021-04-22T14:10:38.054202Z"
    }
   },
   "outputs": [],
   "source": [
    "# !pip install evalml --user"
   ]
  },
  {
   "cell_type": "code",
   "execution_count": 10,
   "metadata": {
    "execution": {
     "iopub.execute_input": "2021-04-22T14:10:38.069202Z",
     "iopub.status.busy": "2021-04-22T14:10:38.069202Z",
     "iopub.status.idle": "2021-04-22T14:10:40.961087Z",
     "shell.execute_reply": "2021-04-22T14:10:40.961087Z",
     "shell.execute_reply.started": "2021-04-22T14:10:38.069202Z"
    }
   },
   "outputs": [],
   "source": [
    "import evalml"
   ]
  },
  {
   "cell_type": "code",
   "execution_count": 11,
   "metadata": {
    "execution": {
     "iopub.execute_input": "2021-04-22T14:10:40.962087Z",
     "iopub.status.busy": "2021-04-22T14:10:40.962087Z",
     "iopub.status.idle": "2021-04-22T14:10:40.978090Z",
     "shell.execute_reply": "2021-04-22T14:10:40.977087Z",
     "shell.execute_reply.started": "2021-04-22T14:10:40.962087Z"
    }
   },
   "outputs": [
    {
     "data": {
      "text/plain": [
       "[<ProblemTypes.BINARY: 'binary'>,\n",
       " <ProblemTypes.MULTICLASS: 'multiclass'>,\n",
       " <ProblemTypes.REGRESSION: 'regression'>,\n",
       " <ProblemTypes.TIME_SERIES_REGRESSION: 'time series regression'>,\n",
       " <ProblemTypes.TIME_SERIES_BINARY: 'time series binary'>,\n",
       " <ProblemTypes.TIME_SERIES_MULTICLASS: 'time series multiclass'>]"
      ]
     },
     "execution_count": 11,
     "metadata": {},
     "output_type": "execute_result"
    }
   ],
   "source": [
    "evalml.problem_types.ProblemTypes.all_problem_types\n"
   ]
  },
  {
   "cell_type": "code",
   "execution_count": 12,
   "metadata": {
    "execution": {
     "iopub.execute_input": "2021-04-22T14:10:40.980088Z",
     "iopub.status.busy": "2021-04-22T14:10:40.980088Z",
     "iopub.status.idle": "2021-04-22T14:10:41.024088Z",
     "shell.execute_reply": "2021-04-22T14:10:41.023087Z",
     "shell.execute_reply.started": "2021-04-22T14:10:40.980088Z"
    }
   },
   "outputs": [],
   "source": [
    "from sklearn.model_selection import KFold, cross_val_score\n",
    "from sklearn.linear_model import LogisticRegression\n",
    "from sklearn.tree import DecisionTreeClassifier\n",
    "from xgboost.sklearn import XGBClassifier\n",
    "from sklearn.ensemble import GradientBoostingClassifier\n",
    "from sklearn.neighbors import KNeighborsClassifier\n",
    "from sklearn.ensemble import RandomForestClassifier\n",
    "from sklearn.model_selection import train_test_split\n",
    "from sklearn import metrics"
   ]
  },
  {
   "cell_type": "code",
   "execution_count": 13,
   "metadata": {
    "execution": {
     "iopub.execute_input": "2021-04-22T14:10:41.026089Z",
     "iopub.status.busy": "2021-04-22T14:10:41.025089Z",
     "iopub.status.idle": "2021-04-22T14:10:41.043088Z",
     "shell.execute_reply": "2021-04-22T14:10:41.039087Z",
     "shell.execute_reply.started": "2021-04-22T14:10:41.026089Z"
    }
   },
   "outputs": [],
   "source": [
    "X_train, X_test, y_train, y_test = train_test_split(X, y, test_size=0.3, random_state=42, shuffle=True)"
   ]
  },
  {
   "cell_type": "code",
   "execution_count": 14,
   "metadata": {
    "execution": {
     "iopub.execute_input": "2021-04-22T14:10:41.045096Z",
     "iopub.status.busy": "2021-04-22T14:10:41.045096Z",
     "iopub.status.idle": "2021-04-22T14:10:41.055086Z",
     "shell.execute_reply": "2021-04-22T14:10:41.054086Z",
     "shell.execute_reply.started": "2021-04-22T14:10:41.045096Z"
    }
   },
   "outputs": [],
   "source": [
    "# from evalml.automl import AutoMLSearch\n",
    "# automl = AutoMLSearch(X_train=X_train, y_train=y_train, problem_type = 'multiclass')\n",
    "# automl.search()"
   ]
  },
  {
   "cell_type": "code",
   "execution_count": 15,
   "metadata": {
    "execution": {
     "iopub.execute_input": "2021-04-22T14:10:41.056088Z",
     "iopub.status.busy": "2021-04-22T14:10:41.056088Z",
     "iopub.status.idle": "2021-04-22T14:10:41.070090Z",
     "shell.execute_reply": "2021-04-22T14:10:41.069090Z",
     "shell.execute_reply.started": "2021-04-22T14:10:41.056088Z"
    }
   },
   "outputs": [],
   "source": [
    "# !pip install lazypredict --user"
   ]
  },
  {
   "cell_type": "code",
   "execution_count": 16,
   "metadata": {
    "execution": {
     "iopub.execute_input": "2021-04-22T14:10:41.070090Z",
     "iopub.status.busy": "2021-04-22T14:10:41.070090Z",
     "iopub.status.idle": "2021-04-22T14:10:41.086091Z",
     "shell.execute_reply": "2021-04-22T14:10:41.085088Z",
     "shell.execute_reply.started": "2021-04-22T14:10:41.070090Z"
    }
   },
   "outputs": [],
   "source": [
    "import lazypredict"
   ]
  },
  {
   "cell_type": "code",
   "execution_count": 17,
   "metadata": {
    "execution": {
     "iopub.execute_input": "2021-04-22T14:10:41.087088Z",
     "iopub.status.busy": "2021-04-22T14:10:41.087088Z",
     "iopub.status.idle": "2021-04-22T14:10:41.609141Z",
     "shell.execute_reply": "2021-04-22T14:10:41.609141Z",
     "shell.execute_reply.started": "2021-04-22T14:10:41.087088Z"
    }
   },
   "outputs": [],
   "source": [
    "from lazypredict.Supervised import LazyClassifier\n"
   ]
  },
  {
   "cell_type": "code",
   "execution_count": 18,
   "metadata": {
    "execution": {
     "iopub.execute_input": "2021-04-22T14:10:41.610088Z",
     "iopub.status.busy": "2021-04-22T14:10:41.610088Z",
     "iopub.status.idle": "2021-04-22T14:10:45.411634Z",
     "shell.execute_reply": "2021-04-22T14:10:45.410635Z",
     "shell.execute_reply.started": "2021-04-22T14:10:41.610088Z"
    }
   },
   "outputs": [
    {
     "name": "stderr",
     "output_type": "stream",
     "text": [
      "100%|██████████████████████████████████████████████████████████████████████████████████| 29/29 [00:03<00:00,  7.69it/s]\n"
     ]
    }
   ],
   "source": [
    "clf = LazyClassifier(verbose=0,ignore_warnings=True, custom_metric=None)\n",
    "models,predictions = clf.fit(X_train, X_test, y_train, y_test)"
   ]
  },
  {
   "cell_type": "code",
   "execution_count": 19,
   "metadata": {
    "execution": {
     "iopub.execute_input": "2021-04-22T14:10:45.412635Z",
     "iopub.status.busy": "2021-04-22T14:10:45.412635Z",
     "iopub.status.idle": "2021-04-22T14:10:45.427638Z",
     "shell.execute_reply": "2021-04-22T14:10:45.426637Z",
     "shell.execute_reply.started": "2021-04-22T14:10:45.412635Z"
    }
   },
   "outputs": [
    {
     "data": {
      "text/html": [
       "<div>\n",
       "<style scoped>\n",
       "    .dataframe tbody tr th:only-of-type {\n",
       "        vertical-align: middle;\n",
       "    }\n",
       "\n",
       "    .dataframe tbody tr th {\n",
       "        vertical-align: top;\n",
       "    }\n",
       "\n",
       "    .dataframe thead th {\n",
       "        text-align: right;\n",
       "    }\n",
       "</style>\n",
       "<table border=\"1\" class=\"dataframe\">\n",
       "  <thead>\n",
       "    <tr style=\"text-align: right;\">\n",
       "      <th></th>\n",
       "      <th>Accuracy</th>\n",
       "      <th>Balanced Accuracy</th>\n",
       "      <th>ROC AUC</th>\n",
       "      <th>F1 Score</th>\n",
       "      <th>Time Taken</th>\n",
       "    </tr>\n",
       "    <tr>\n",
       "      <th>Model</th>\n",
       "      <th></th>\n",
       "      <th></th>\n",
       "      <th></th>\n",
       "      <th></th>\n",
       "      <th></th>\n",
       "    </tr>\n",
       "  </thead>\n",
       "  <tbody>\n",
       "    <tr>\n",
       "      <th>GaussianNB</th>\n",
       "      <td>0.99</td>\n",
       "      <td>0.99</td>\n",
       "      <td>None</td>\n",
       "      <td>0.99</td>\n",
       "      <td>0.02</td>\n",
       "    </tr>\n",
       "    <tr>\n",
       "      <th>RandomForestClassifier</th>\n",
       "      <td>0.99</td>\n",
       "      <td>0.99</td>\n",
       "      <td>None</td>\n",
       "      <td>0.99</td>\n",
       "      <td>0.25</td>\n",
       "    </tr>\n",
       "    <tr>\n",
       "      <th>QuadraticDiscriminantAnalysis</th>\n",
       "      <td>0.99</td>\n",
       "      <td>0.99</td>\n",
       "      <td>None</td>\n",
       "      <td>0.99</td>\n",
       "      <td>0.02</td>\n",
       "    </tr>\n",
       "    <tr>\n",
       "      <th>DecisionTreeClassifier</th>\n",
       "      <td>0.99</td>\n",
       "      <td>0.99</td>\n",
       "      <td>None</td>\n",
       "      <td>0.99</td>\n",
       "      <td>0.02</td>\n",
       "    </tr>\n",
       "    <tr>\n",
       "      <th>BaggingClassifier</th>\n",
       "      <td>0.99</td>\n",
       "      <td>0.99</td>\n",
       "      <td>None</td>\n",
       "      <td>0.99</td>\n",
       "      <td>0.07</td>\n",
       "    </tr>\n",
       "    <tr>\n",
       "      <th>ExtraTreesClassifier</th>\n",
       "      <td>0.98</td>\n",
       "      <td>0.99</td>\n",
       "      <td>None</td>\n",
       "      <td>0.98</td>\n",
       "      <td>0.16</td>\n",
       "    </tr>\n",
       "    <tr>\n",
       "      <th>LGBMClassifier</th>\n",
       "      <td>0.98</td>\n",
       "      <td>0.98</td>\n",
       "      <td>None</td>\n",
       "      <td>0.98</td>\n",
       "      <td>1.28</td>\n",
       "    </tr>\n",
       "    <tr>\n",
       "      <th>XGBClassifier</th>\n",
       "      <td>0.98</td>\n",
       "      <td>0.98</td>\n",
       "      <td>None</td>\n",
       "      <td>0.98</td>\n",
       "      <td>0.37</td>\n",
       "    </tr>\n",
       "    <tr>\n",
       "      <th>LabelSpreading</th>\n",
       "      <td>0.97</td>\n",
       "      <td>0.97</td>\n",
       "      <td>None</td>\n",
       "      <td>0.97</td>\n",
       "      <td>0.17</td>\n",
       "    </tr>\n",
       "    <tr>\n",
       "      <th>LabelPropagation</th>\n",
       "      <td>0.97</td>\n",
       "      <td>0.97</td>\n",
       "      <td>None</td>\n",
       "      <td>0.97</td>\n",
       "      <td>0.10</td>\n",
       "    </tr>\n",
       "    <tr>\n",
       "      <th>SVC</th>\n",
       "      <td>0.97</td>\n",
       "      <td>0.97</td>\n",
       "      <td>None</td>\n",
       "      <td>0.97</td>\n",
       "      <td>0.05</td>\n",
       "    </tr>\n",
       "    <tr>\n",
       "      <th>LinearSVC</th>\n",
       "      <td>0.96</td>\n",
       "      <td>0.96</td>\n",
       "      <td>None</td>\n",
       "      <td>0.96</td>\n",
       "      <td>0.07</td>\n",
       "    </tr>\n",
       "    <tr>\n",
       "      <th>CalibratedClassifierCV</th>\n",
       "      <td>0.96</td>\n",
       "      <td>0.96</td>\n",
       "      <td>None</td>\n",
       "      <td>0.96</td>\n",
       "      <td>0.38</td>\n",
       "    </tr>\n",
       "    <tr>\n",
       "      <th>KNeighborsClassifier</th>\n",
       "      <td>0.96</td>\n",
       "      <td>0.96</td>\n",
       "      <td>None</td>\n",
       "      <td>0.96</td>\n",
       "      <td>0.04</td>\n",
       "    </tr>\n",
       "    <tr>\n",
       "      <th>LogisticRegression</th>\n",
       "      <td>0.96</td>\n",
       "      <td>0.96</td>\n",
       "      <td>None</td>\n",
       "      <td>0.96</td>\n",
       "      <td>0.12</td>\n",
       "    </tr>\n",
       "    <tr>\n",
       "      <th>LinearDiscriminantAnalysis</th>\n",
       "      <td>0.95</td>\n",
       "      <td>0.95</td>\n",
       "      <td>None</td>\n",
       "      <td>0.95</td>\n",
       "      <td>0.03</td>\n",
       "    </tr>\n",
       "    <tr>\n",
       "      <th>NuSVC</th>\n",
       "      <td>0.94</td>\n",
       "      <td>0.94</td>\n",
       "      <td>None</td>\n",
       "      <td>0.94</td>\n",
       "      <td>0.13</td>\n",
       "    </tr>\n",
       "    <tr>\n",
       "      <th>SGDClassifier</th>\n",
       "      <td>0.88</td>\n",
       "      <td>0.89</td>\n",
       "      <td>None</td>\n",
       "      <td>0.89</td>\n",
       "      <td>0.04</td>\n",
       "    </tr>\n",
       "    <tr>\n",
       "      <th>ExtraTreeClassifier</th>\n",
       "      <td>0.88</td>\n",
       "      <td>0.88</td>\n",
       "      <td>None</td>\n",
       "      <td>0.88</td>\n",
       "      <td>0.02</td>\n",
       "    </tr>\n",
       "    <tr>\n",
       "      <th>NearestCentroid</th>\n",
       "      <td>0.86</td>\n",
       "      <td>0.86</td>\n",
       "      <td>None</td>\n",
       "      <td>0.85</td>\n",
       "      <td>0.02</td>\n",
       "    </tr>\n",
       "    <tr>\n",
       "      <th>Perceptron</th>\n",
       "      <td>0.86</td>\n",
       "      <td>0.86</td>\n",
       "      <td>None</td>\n",
       "      <td>0.86</td>\n",
       "      <td>0.04</td>\n",
       "    </tr>\n",
       "    <tr>\n",
       "      <th>PassiveAggressiveClassifier</th>\n",
       "      <td>0.81</td>\n",
       "      <td>0.81</td>\n",
       "      <td>None</td>\n",
       "      <td>0.81</td>\n",
       "      <td>0.05</td>\n",
       "    </tr>\n",
       "    <tr>\n",
       "      <th>BernoulliNB</th>\n",
       "      <td>0.78</td>\n",
       "      <td>0.78</td>\n",
       "      <td>None</td>\n",
       "      <td>0.77</td>\n",
       "      <td>0.02</td>\n",
       "    </tr>\n",
       "    <tr>\n",
       "      <th>RidgeClassifier</th>\n",
       "      <td>0.64</td>\n",
       "      <td>0.66</td>\n",
       "      <td>None</td>\n",
       "      <td>0.57</td>\n",
       "      <td>0.02</td>\n",
       "    </tr>\n",
       "    <tr>\n",
       "      <th>RidgeClassifierCV</th>\n",
       "      <td>0.64</td>\n",
       "      <td>0.66</td>\n",
       "      <td>None</td>\n",
       "      <td>0.56</td>\n",
       "      <td>0.02</td>\n",
       "    </tr>\n",
       "    <tr>\n",
       "      <th>AdaBoostClassifier</th>\n",
       "      <td>0.21</td>\n",
       "      <td>0.23</td>\n",
       "      <td>None</td>\n",
       "      <td>0.17</td>\n",
       "      <td>0.22</td>\n",
       "    </tr>\n",
       "    <tr>\n",
       "      <th>DummyClassifier</th>\n",
       "      <td>0.04</td>\n",
       "      <td>0.04</td>\n",
       "      <td>None</td>\n",
       "      <td>0.04</td>\n",
       "      <td>0.02</td>\n",
       "    </tr>\n",
       "  </tbody>\n",
       "</table>\n",
       "</div>"
      ],
      "text/plain": [
       "                               Accuracy  Balanced Accuracy ROC AUC  F1 Score  \\\n",
       "Model                                                                          \n",
       "GaussianNB                         0.99               0.99    None      0.99   \n",
       "RandomForestClassifier             0.99               0.99    None      0.99   \n",
       "QuadraticDiscriminantAnalysis      0.99               0.99    None      0.99   \n",
       "DecisionTreeClassifier             0.99               0.99    None      0.99   \n",
       "BaggingClassifier                  0.99               0.99    None      0.99   \n",
       "ExtraTreesClassifier               0.98               0.99    None      0.98   \n",
       "LGBMClassifier                     0.98               0.98    None      0.98   \n",
       "XGBClassifier                      0.98               0.98    None      0.98   \n",
       "LabelSpreading                     0.97               0.97    None      0.97   \n",
       "LabelPropagation                   0.97               0.97    None      0.97   \n",
       "SVC                                0.97               0.97    None      0.97   \n",
       "LinearSVC                          0.96               0.96    None      0.96   \n",
       "CalibratedClassifierCV             0.96               0.96    None      0.96   \n",
       "KNeighborsClassifier               0.96               0.96    None      0.96   \n",
       "LogisticRegression                 0.96               0.96    None      0.96   \n",
       "LinearDiscriminantAnalysis         0.95               0.95    None      0.95   \n",
       "NuSVC                              0.94               0.94    None      0.94   \n",
       "SGDClassifier                      0.88               0.89    None      0.89   \n",
       "ExtraTreeClassifier                0.88               0.88    None      0.88   \n",
       "NearestCentroid                    0.86               0.86    None      0.85   \n",
       "Perceptron                         0.86               0.86    None      0.86   \n",
       "PassiveAggressiveClassifier        0.81               0.81    None      0.81   \n",
       "BernoulliNB                        0.78               0.78    None      0.77   \n",
       "RidgeClassifier                    0.64               0.66    None      0.57   \n",
       "RidgeClassifierCV                  0.64               0.66    None      0.56   \n",
       "AdaBoostClassifier                 0.21               0.23    None      0.17   \n",
       "DummyClassifier                    0.04               0.04    None      0.04   \n",
       "\n",
       "                               Time Taken  \n",
       "Model                                      \n",
       "GaussianNB                           0.02  \n",
       "RandomForestClassifier               0.25  \n",
       "QuadraticDiscriminantAnalysis        0.02  \n",
       "DecisionTreeClassifier               0.02  \n",
       "BaggingClassifier                    0.07  \n",
       "ExtraTreesClassifier                 0.16  \n",
       "LGBMClassifier                       1.28  \n",
       "XGBClassifier                        0.37  \n",
       "LabelSpreading                       0.17  \n",
       "LabelPropagation                     0.10  \n",
       "SVC                                  0.05  \n",
       "LinearSVC                            0.07  \n",
       "CalibratedClassifierCV               0.38  \n",
       "KNeighborsClassifier                 0.04  \n",
       "LogisticRegression                   0.12  \n",
       "LinearDiscriminantAnalysis           0.03  \n",
       "NuSVC                                0.13  \n",
       "SGDClassifier                        0.04  \n",
       "ExtraTreeClassifier                  0.02  \n",
       "NearestCentroid                      0.02  \n",
       "Perceptron                           0.04  \n",
       "PassiveAggressiveClassifier          0.05  \n",
       "BernoulliNB                          0.02  \n",
       "RidgeClassifier                      0.02  \n",
       "RidgeClassifierCV                    0.02  \n",
       "AdaBoostClassifier                   0.22  \n",
       "DummyClassifier                      0.02  "
      ]
     },
     "execution_count": 19,
     "metadata": {},
     "output_type": "execute_result"
    }
   ],
   "source": [
    "models"
   ]
  },
  {
   "cell_type": "code",
   "execution_count": 20,
   "metadata": {
    "execution": {
     "iopub.execute_input": "2021-04-22T14:10:45.428636Z",
     "iopub.status.busy": "2021-04-22T14:10:45.428636Z",
     "iopub.status.idle": "2021-04-22T14:10:45.459635Z",
     "shell.execute_reply": "2021-04-22T14:10:45.458634Z",
     "shell.execute_reply.started": "2021-04-22T14:10:45.428636Z"
    }
   },
   "outputs": [
    {
     "data": {
      "text/html": [
       "<div>\n",
       "<style scoped>\n",
       "    .dataframe tbody tr th:only-of-type {\n",
       "        vertical-align: middle;\n",
       "    }\n",
       "\n",
       "    .dataframe tbody tr th {\n",
       "        vertical-align: top;\n",
       "    }\n",
       "\n",
       "    .dataframe thead th {\n",
       "        text-align: right;\n",
       "    }\n",
       "</style>\n",
       "<table border=\"1\" class=\"dataframe\">\n",
       "  <thead>\n",
       "    <tr style=\"text-align: right;\">\n",
       "      <th></th>\n",
       "      <th>Accuracy</th>\n",
       "      <th>Balanced Accuracy</th>\n",
       "      <th>ROC AUC</th>\n",
       "      <th>F1 Score</th>\n",
       "      <th>Time Taken</th>\n",
       "    </tr>\n",
       "    <tr>\n",
       "      <th>Model</th>\n",
       "      <th></th>\n",
       "      <th></th>\n",
       "      <th></th>\n",
       "      <th></th>\n",
       "      <th></th>\n",
       "    </tr>\n",
       "  </thead>\n",
       "  <tbody>\n",
       "    <tr>\n",
       "      <th>GaussianNB</th>\n",
       "      <td>0.99</td>\n",
       "      <td>0.99</td>\n",
       "      <td>None</td>\n",
       "      <td>0.99</td>\n",
       "      <td>0.02</td>\n",
       "    </tr>\n",
       "    <tr>\n",
       "      <th>RandomForestClassifier</th>\n",
       "      <td>0.99</td>\n",
       "      <td>0.99</td>\n",
       "      <td>None</td>\n",
       "      <td>0.99</td>\n",
       "      <td>0.25</td>\n",
       "    </tr>\n",
       "    <tr>\n",
       "      <th>QuadraticDiscriminantAnalysis</th>\n",
       "      <td>0.99</td>\n",
       "      <td>0.99</td>\n",
       "      <td>None</td>\n",
       "      <td>0.99</td>\n",
       "      <td>0.02</td>\n",
       "    </tr>\n",
       "    <tr>\n",
       "      <th>DecisionTreeClassifier</th>\n",
       "      <td>0.99</td>\n",
       "      <td>0.99</td>\n",
       "      <td>None</td>\n",
       "      <td>0.99</td>\n",
       "      <td>0.02</td>\n",
       "    </tr>\n",
       "    <tr>\n",
       "      <th>BaggingClassifier</th>\n",
       "      <td>0.99</td>\n",
       "      <td>0.99</td>\n",
       "      <td>None</td>\n",
       "      <td>0.99</td>\n",
       "      <td>0.07</td>\n",
       "    </tr>\n",
       "    <tr>\n",
       "      <th>ExtraTreesClassifier</th>\n",
       "      <td>0.98</td>\n",
       "      <td>0.99</td>\n",
       "      <td>None</td>\n",
       "      <td>0.98</td>\n",
       "      <td>0.16</td>\n",
       "    </tr>\n",
       "    <tr>\n",
       "      <th>LGBMClassifier</th>\n",
       "      <td>0.98</td>\n",
       "      <td>0.98</td>\n",
       "      <td>None</td>\n",
       "      <td>0.98</td>\n",
       "      <td>1.28</td>\n",
       "    </tr>\n",
       "    <tr>\n",
       "      <th>XGBClassifier</th>\n",
       "      <td>0.98</td>\n",
       "      <td>0.98</td>\n",
       "      <td>None</td>\n",
       "      <td>0.98</td>\n",
       "      <td>0.37</td>\n",
       "    </tr>\n",
       "    <tr>\n",
       "      <th>LabelSpreading</th>\n",
       "      <td>0.97</td>\n",
       "      <td>0.97</td>\n",
       "      <td>None</td>\n",
       "      <td>0.97</td>\n",
       "      <td>0.17</td>\n",
       "    </tr>\n",
       "    <tr>\n",
       "      <th>LabelPropagation</th>\n",
       "      <td>0.97</td>\n",
       "      <td>0.97</td>\n",
       "      <td>None</td>\n",
       "      <td>0.97</td>\n",
       "      <td>0.10</td>\n",
       "    </tr>\n",
       "    <tr>\n",
       "      <th>SVC</th>\n",
       "      <td>0.97</td>\n",
       "      <td>0.97</td>\n",
       "      <td>None</td>\n",
       "      <td>0.97</td>\n",
       "      <td>0.05</td>\n",
       "    </tr>\n",
       "    <tr>\n",
       "      <th>LinearSVC</th>\n",
       "      <td>0.96</td>\n",
       "      <td>0.96</td>\n",
       "      <td>None</td>\n",
       "      <td>0.96</td>\n",
       "      <td>0.07</td>\n",
       "    </tr>\n",
       "    <tr>\n",
       "      <th>CalibratedClassifierCV</th>\n",
       "      <td>0.96</td>\n",
       "      <td>0.96</td>\n",
       "      <td>None</td>\n",
       "      <td>0.96</td>\n",
       "      <td>0.38</td>\n",
       "    </tr>\n",
       "    <tr>\n",
       "      <th>KNeighborsClassifier</th>\n",
       "      <td>0.96</td>\n",
       "      <td>0.96</td>\n",
       "      <td>None</td>\n",
       "      <td>0.96</td>\n",
       "      <td>0.04</td>\n",
       "    </tr>\n",
       "    <tr>\n",
       "      <th>LogisticRegression</th>\n",
       "      <td>0.96</td>\n",
       "      <td>0.96</td>\n",
       "      <td>None</td>\n",
       "      <td>0.96</td>\n",
       "      <td>0.12</td>\n",
       "    </tr>\n",
       "    <tr>\n",
       "      <th>LinearDiscriminantAnalysis</th>\n",
       "      <td>0.95</td>\n",
       "      <td>0.95</td>\n",
       "      <td>None</td>\n",
       "      <td>0.95</td>\n",
       "      <td>0.03</td>\n",
       "    </tr>\n",
       "    <tr>\n",
       "      <th>NuSVC</th>\n",
       "      <td>0.94</td>\n",
       "      <td>0.94</td>\n",
       "      <td>None</td>\n",
       "      <td>0.94</td>\n",
       "      <td>0.13</td>\n",
       "    </tr>\n",
       "    <tr>\n",
       "      <th>SGDClassifier</th>\n",
       "      <td>0.88</td>\n",
       "      <td>0.89</td>\n",
       "      <td>None</td>\n",
       "      <td>0.89</td>\n",
       "      <td>0.04</td>\n",
       "    </tr>\n",
       "    <tr>\n",
       "      <th>ExtraTreeClassifier</th>\n",
       "      <td>0.88</td>\n",
       "      <td>0.88</td>\n",
       "      <td>None</td>\n",
       "      <td>0.88</td>\n",
       "      <td>0.02</td>\n",
       "    </tr>\n",
       "    <tr>\n",
       "      <th>NearestCentroid</th>\n",
       "      <td>0.86</td>\n",
       "      <td>0.86</td>\n",
       "      <td>None</td>\n",
       "      <td>0.85</td>\n",
       "      <td>0.02</td>\n",
       "    </tr>\n",
       "    <tr>\n",
       "      <th>Perceptron</th>\n",
       "      <td>0.86</td>\n",
       "      <td>0.86</td>\n",
       "      <td>None</td>\n",
       "      <td>0.86</td>\n",
       "      <td>0.04</td>\n",
       "    </tr>\n",
       "    <tr>\n",
       "      <th>PassiveAggressiveClassifier</th>\n",
       "      <td>0.81</td>\n",
       "      <td>0.81</td>\n",
       "      <td>None</td>\n",
       "      <td>0.81</td>\n",
       "      <td>0.05</td>\n",
       "    </tr>\n",
       "    <tr>\n",
       "      <th>BernoulliNB</th>\n",
       "      <td>0.78</td>\n",
       "      <td>0.78</td>\n",
       "      <td>None</td>\n",
       "      <td>0.77</td>\n",
       "      <td>0.02</td>\n",
       "    </tr>\n",
       "    <tr>\n",
       "      <th>RidgeClassifier</th>\n",
       "      <td>0.64</td>\n",
       "      <td>0.66</td>\n",
       "      <td>None</td>\n",
       "      <td>0.57</td>\n",
       "      <td>0.02</td>\n",
       "    </tr>\n",
       "    <tr>\n",
       "      <th>RidgeClassifierCV</th>\n",
       "      <td>0.64</td>\n",
       "      <td>0.66</td>\n",
       "      <td>None</td>\n",
       "      <td>0.56</td>\n",
       "      <td>0.02</td>\n",
       "    </tr>\n",
       "    <tr>\n",
       "      <th>AdaBoostClassifier</th>\n",
       "      <td>0.21</td>\n",
       "      <td>0.23</td>\n",
       "      <td>None</td>\n",
       "      <td>0.17</td>\n",
       "      <td>0.22</td>\n",
       "    </tr>\n",
       "    <tr>\n",
       "      <th>DummyClassifier</th>\n",
       "      <td>0.04</td>\n",
       "      <td>0.04</td>\n",
       "      <td>None</td>\n",
       "      <td>0.04</td>\n",
       "      <td>0.02</td>\n",
       "    </tr>\n",
       "  </tbody>\n",
       "</table>\n",
       "</div>"
      ],
      "text/plain": [
       "                               Accuracy  Balanced Accuracy ROC AUC  F1 Score  \\\n",
       "Model                                                                          \n",
       "GaussianNB                         0.99               0.99    None      0.99   \n",
       "RandomForestClassifier             0.99               0.99    None      0.99   \n",
       "QuadraticDiscriminantAnalysis      0.99               0.99    None      0.99   \n",
       "DecisionTreeClassifier             0.99               0.99    None      0.99   \n",
       "BaggingClassifier                  0.99               0.99    None      0.99   \n",
       "ExtraTreesClassifier               0.98               0.99    None      0.98   \n",
       "LGBMClassifier                     0.98               0.98    None      0.98   \n",
       "XGBClassifier                      0.98               0.98    None      0.98   \n",
       "LabelSpreading                     0.97               0.97    None      0.97   \n",
       "LabelPropagation                   0.97               0.97    None      0.97   \n",
       "SVC                                0.97               0.97    None      0.97   \n",
       "LinearSVC                          0.96               0.96    None      0.96   \n",
       "CalibratedClassifierCV             0.96               0.96    None      0.96   \n",
       "KNeighborsClassifier               0.96               0.96    None      0.96   \n",
       "LogisticRegression                 0.96               0.96    None      0.96   \n",
       "LinearDiscriminantAnalysis         0.95               0.95    None      0.95   \n",
       "NuSVC                              0.94               0.94    None      0.94   \n",
       "SGDClassifier                      0.88               0.89    None      0.89   \n",
       "ExtraTreeClassifier                0.88               0.88    None      0.88   \n",
       "NearestCentroid                    0.86               0.86    None      0.85   \n",
       "Perceptron                         0.86               0.86    None      0.86   \n",
       "PassiveAggressiveClassifier        0.81               0.81    None      0.81   \n",
       "BernoulliNB                        0.78               0.78    None      0.77   \n",
       "RidgeClassifier                    0.64               0.66    None      0.57   \n",
       "RidgeClassifierCV                  0.64               0.66    None      0.56   \n",
       "AdaBoostClassifier                 0.21               0.23    None      0.17   \n",
       "DummyClassifier                    0.04               0.04    None      0.04   \n",
       "\n",
       "                               Time Taken  \n",
       "Model                                      \n",
       "GaussianNB                           0.02  \n",
       "RandomForestClassifier               0.25  \n",
       "QuadraticDiscriminantAnalysis        0.02  \n",
       "DecisionTreeClassifier               0.02  \n",
       "BaggingClassifier                    0.07  \n",
       "ExtraTreesClassifier                 0.16  \n",
       "LGBMClassifier                       1.28  \n",
       "XGBClassifier                        0.37  \n",
       "LabelSpreading                       0.17  \n",
       "LabelPropagation                     0.10  \n",
       "SVC                                  0.05  \n",
       "LinearSVC                            0.07  \n",
       "CalibratedClassifierCV               0.38  \n",
       "KNeighborsClassifier                 0.04  \n",
       "LogisticRegression                   0.12  \n",
       "LinearDiscriminantAnalysis           0.03  \n",
       "NuSVC                                0.13  \n",
       "SGDClassifier                        0.04  \n",
       "ExtraTreeClassifier                  0.02  \n",
       "NearestCentroid                      0.02  \n",
       "Perceptron                           0.04  \n",
       "PassiveAggressiveClassifier          0.05  \n",
       "BernoulliNB                          0.02  \n",
       "RidgeClassifier                      0.02  \n",
       "RidgeClassifierCV                    0.02  \n",
       "AdaBoostClassifier                   0.22  \n",
       "DummyClassifier                      0.02  "
      ]
     },
     "execution_count": 20,
     "metadata": {},
     "output_type": "execute_result"
    }
   ],
   "source": [
    "predictions"
   ]
  },
  {
   "cell_type": "code",
   "execution_count": 21,
   "metadata": {
    "execution": {
     "iopub.execute_input": "2021-04-22T14:10:45.460635Z",
     "iopub.status.busy": "2021-04-22T14:10:45.460635Z",
     "iopub.status.idle": "2021-04-22T14:10:45.507634Z",
     "shell.execute_reply": "2021-04-22T14:10:45.506634Z",
     "shell.execute_reply.started": "2021-04-22T14:10:45.460635Z"
    }
   },
   "outputs": [
    {
     "name": "stdout",
     "output_type": "stream",
     "text": [
      "Naive Bayes's Accuracy is:  0.9939393939393939\n",
      "              precision    recall  f1-score   support\n",
      "\n",
      "       apple       1.00      1.00      1.00        34\n",
      "      banana       1.00      1.00      1.00        26\n",
      "   blackgram       1.00      1.00      1.00        26\n",
      "    chickpea       1.00      1.00      1.00        34\n",
      "     coconut       1.00      1.00      1.00        33\n",
      "      coffee       1.00      1.00      1.00        30\n",
      "      cotton       1.00      1.00      1.00        28\n",
      "      grapes       1.00      1.00      1.00        23\n",
      "        jute       0.89      1.00      0.94        34\n",
      " kidneybeans       1.00      1.00      1.00        36\n",
      "      lentil       1.00      1.00      1.00        22\n",
      "       maize       1.00      1.00      1.00        26\n",
      "       mango       1.00      1.00      1.00        32\n",
      "   mothbeans       1.00      1.00      1.00        34\n",
      "    mungbean       1.00      1.00      1.00        30\n",
      "   muskmelon       1.00      1.00      1.00        24\n",
      "      orange       1.00      1.00      1.00        25\n",
      "      papaya       1.00      1.00      1.00        37\n",
      "  pigeonpeas       1.00      1.00      1.00        37\n",
      " pomegranate       1.00      1.00      1.00        38\n",
      "        rice       1.00      0.86      0.92        28\n",
      "  watermelon       1.00      1.00      1.00        23\n",
      "\n",
      "    accuracy                           0.99       660\n",
      "   macro avg       1.00      0.99      0.99       660\n",
      "weighted avg       0.99      0.99      0.99       660\n",
      "\n"
     ]
    }
   ],
   "source": [
    "from sklearn.naive_bayes import GaussianNB\n",
    "from sklearn.metrics import classification_report\n",
    "\n",
    "NaiveBayes = GaussianNB()\n",
    "\n",
    "NaiveBayes.fit(X_train,y_train)\n",
    "\n",
    "predicted_values = NaiveBayes.predict(X_test)\n",
    "x = metrics.accuracy_score(y_test, predicted_values)\n",
    "\n",
    "print(\"Naive Bayes's Accuracy is: \", x)\n",
    "\n",
    "print(classification_report(y_test,predicted_values))"
   ]
  },
  {
   "cell_type": "code",
   "execution_count": 22,
   "metadata": {
    "execution": {
     "iopub.execute_input": "2021-04-22T14:10:45.507634Z",
     "iopub.status.busy": "2021-04-22T14:10:45.507634Z",
     "iopub.status.idle": "2021-04-22T14:10:45.568635Z",
     "shell.execute_reply": "2021-04-22T14:10:45.568635Z",
     "shell.execute_reply.started": "2021-04-22T14:10:45.507634Z"
    }
   },
   "outputs": [
    {
     "data": {
      "text/plain": [
       "array([0.99772727, 0.99545455, 0.99545455, 0.99545455, 0.99090909])"
      ]
     },
     "execution_count": 22,
     "metadata": {},
     "output_type": "execute_result"
    }
   ],
   "source": [
    "# Cross validation score (NaiveBayes)\n",
    "score = cross_val_score(NaiveBayes,X,y,cv=5)\n",
    "score"
   ]
  },
  {
   "cell_type": "code",
   "execution_count": 23,
   "metadata": {
    "execution": {
     "iopub.execute_input": "2021-04-22T14:10:45.569634Z",
     "iopub.status.busy": "2021-04-22T14:10:45.569634Z",
     "iopub.status.idle": "2021-04-22T14:10:45.585636Z",
     "shell.execute_reply": "2021-04-22T14:10:45.584639Z",
     "shell.execute_reply.started": "2021-04-22T14:10:45.569634Z"
    }
   },
   "outputs": [],
   "source": [
    "import pickle\n",
    "\n",
    "NB_pkl_filename = 'NBClassifier.pkl'\n",
    "\n",
    "NB_Model_pkl = open(NB_pkl_filename, 'wb')\n",
    "pickle.dump(NaiveBayes, NB_Model_pkl)\n",
    "\n",
    "NB_Model_pkl.close()"
   ]
  },
  {
   "cell_type": "code",
   "execution_count": 24,
   "metadata": {
    "execution": {
     "iopub.execute_input": "2021-04-22T14:10:45.587642Z",
     "iopub.status.busy": "2021-04-22T14:10:45.586636Z",
     "iopub.status.idle": "2021-04-22T14:10:45.601636Z",
     "shell.execute_reply": "2021-04-22T14:10:45.600638Z",
     "shell.execute_reply.started": "2021-04-22T14:10:45.587642Z"
    }
   },
   "outputs": [
    {
     "name": "stdout",
     "output_type": "stream",
     "text": [
      "['jute']\n"
     ]
    }
   ],
   "source": [
    "data = np.array([[83, 45, 60, 28, 70.3, 7.0, 150.9]])\n",
    "prediction = NaiveBayes.predict(data)\n",
    "print(prediction)"
   ]
  },
  {
   "cell_type": "code",
   "execution_count": 25,
   "metadata": {
    "execution": {
     "iopub.execute_input": "2021-04-22T14:10:45.603638Z",
     "iopub.status.busy": "2021-04-22T14:10:45.603638Z",
     "iopub.status.idle": "2021-04-22T14:10:45.618639Z",
     "shell.execute_reply": "2021-04-22T14:10:45.616637Z",
     "shell.execute_reply.started": "2021-04-22T14:10:45.603638Z"
    }
   },
   "outputs": [],
   "source": [
    "# import evalml\n",
    "# from evalml.data_checks import TargetLeakageDataCheck"
   ]
  },
  {
   "cell_type": "code",
   "execution_count": 26,
   "metadata": {
    "execution": {
     "iopub.execute_input": "2021-04-22T14:10:45.620637Z",
     "iopub.status.busy": "2021-04-22T14:10:45.620637Z",
     "iopub.status.idle": "2021-04-22T14:10:45.634636Z",
     "shell.execute_reply": "2021-04-22T14:10:45.632636Z",
     "shell.execute_reply.started": "2021-04-22T14:10:45.620637Z"
    }
   },
   "outputs": [],
   "source": [
    "# target_leakage_check = TargetLeakageDataCheck(pct_corr_threshold = 0.8)\n",
    "# target_leakage_check.validate(X,y)"
   ]
  },
  {
   "cell_type": "code",
   "execution_count": null,
   "metadata": {},
   "outputs": [],
   "source": []
  },
  {
   "cell_type": "code",
   "execution_count": null,
   "metadata": {},
   "outputs": [],
   "source": []
  },
  {
   "cell_type": "code",
   "execution_count": null,
   "metadata": {},
   "outputs": [],
   "source": []
  }
 ],
 "metadata": {
  "kernelspec": {
   "display_name": "Python 3",
   "language": "python",
   "name": "python3"
  },
  "language_info": {
   "codemirror_mode": {
    "name": "ipython",
    "version": 3
   },
   "file_extension": ".py",
   "mimetype": "text/x-python",
   "name": "python",
   "nbconvert_exporter": "python",
   "pygments_lexer": "ipython3",
   "version": "3.8.5"
  }
 },
 "nbformat": 4,
 "nbformat_minor": 4
}
