{
  "nbformat": 4,
  "nbformat_minor": 0,
  "metadata": {
    "colab": {
      "name": "Pytorch_plantdisease2.ipynb",
      "provenance": [],
      "collapsed_sections": []
    },
    "kernelspec": {
      "name": "python3",
      "display_name": "Python 3"
    },
    "language_info": {
      "name": "python"
    },
    "accelerator": "GPU"
  },
  "cells": [
    {
      "cell_type": "code",
      "metadata": {
        "colab": {
          "base_uri": "https://localhost:8080/"
        },
        "id": "hx_ZADx_q5LQ",
        "outputId": "52fe9caf-3e21-4406-8335-61650c2c8981"
      },
      "source": [
        "%matplotlib inline\n",
        "import os\n",
        "import numpy as np # linear algebra\n",
        "import pandas as pd # data processing\n",
        "import seaborn as sns # visualizations\n",
        "from PIL import Image # image processing\n",
        "import matplotlib.pyplot as plt # visualizations\n",
        "\n",
        "#PyTorch\n",
        "import torch\n",
        "import torch.nn as nn \n",
        "from torch.autograd import Variable\n",
        "import torchvision\n",
        "from torchvision import datasets, models,transforms,datasets\n",
        "import torch.nn as nn\n",
        "import torch.nn.functional as F\n",
        "import random, time\n",
        "from sklearn import metrics\n",
        "import itertools\n",
        "import torch.optim as optim\n",
        "from torch.optim import lr_scheduler\n",
        "\n",
        "print(torch.__version__)  #version de Pytorch"
      ],
      "execution_count": 77,
      "outputs": [
        {
          "output_type": "stream",
          "text": [
            "1.8.1+cu101\n"
          ],
          "name": "stdout"
        }
      ]
    },
    {
      "cell_type": "code",
      "metadata": {
        "colab": {
          "base_uri": "https://localhost:8080/"
        },
        "id": "bI8plaeyrjtX",
        "outputId": "122476a9-9649-4ca0-bc48-605cf5bf2f98"
      },
      "source": [
        "diseases = ['Tomato___Late_blight', 'Tomato___healthy', 'Grape___healthy', 'Orange___Haunglongbing_(Citrus_greening)', 'Soybean___healthy', 'Squash___Powdery_mildew', 'Potato___healthy', 'Corn_(maize)___Northern_Leaf_Blight', 'Tomato___Early_blight', 'Tomato___Septoria_leaf_spot', 'Corn_(maize)___Cercospora_leaf_spot Gray_leaf_spot', 'Strawberry___Leaf_scorch', 'Peach___healthy', 'Apple___Apple_scab', 'Tomato___Tomato_Yellow_Leaf_Curl_Virus', 'Tomato___Bacterial_spot', 'Apple___Black_rot', 'Blueberry___healthy', 'Cherry_(including_sour)___Powdery_mildew', 'Peach___Bacterial_spot', 'Apple___Cedar_apple_rust', 'Tomato___Target_Spot', 'Pepper,_bell___healthy', 'Grape___Leaf_blight_(Isariopsis_Leaf_Spot)', 'Potato___Late_blight', 'Tomato___Tomato_mosaic_virus', 'Strawberry___healthy', 'Apple___healthy', 'Grape___Black_rot', 'Potato___Early_blight', 'Cherry_(including_sour)___healthy', 'Corn_(maize)___Common_rust_', 'Grape___Esca_(Black_Measles)', 'Raspberry___healthy', 'Tomato___Leaf_Mold', 'Tomato___Spider_mites Two-spotted_spider_mite', 'Pepper,_bell___Bacterial_spot', 'Corn_(maize)___healthy']\n",
        "print(len(diseases))"
      ],
      "execution_count": 81,
      "outputs": [
        {
          "output_type": "stream",
          "text": [
            "38\n"
          ],
          "name": "stdout"
        }
      ]
    },
    {
      "cell_type": "code",
      "metadata": {
        "colab": {
          "base_uri": "https://localhost:8080/"
        },
        "id": "alIzqNVQrDAz",
        "outputId": "8e37b26f-648c-4371-f6ff-4fce1183ee51"
      },
      "source": [
        "class Model(nn.Module):\n",
        "\n",
        "    def __init__(self):\n",
        "        super(Model, self).__init__()\n",
        "        \n",
        "        self.categories = 38\n",
        "        \n",
        "        self.block1 = nn.Sequential(  \n",
        "            nn.Conv2d(in_channels = 3, out_channels = 128, kernel_size = 3, padding = 1),\n",
        "            nn.LeakyReLU(inplace = True),\n",
        "            nn.BatchNorm2d(128),\n",
        "            nn.MaxPool2d(kernel_size = 2)) \n",
        "        \n",
        "        self.block2 = nn.Sequential(          \n",
        "            nn.Conv2d(in_channels = 128, out_channels = 256, kernel_size = 3, padding = 1),\n",
        "            nn.LeakyReLU(inplace = True),\n",
        "            nn.BatchNorm2d(256),\n",
        "            nn.MaxPool2d(kernel_size = 2))\n",
        "            \n",
        "        self.block3 = nn.Sequential(              \n",
        "            nn.Conv2d(in_channels = 256, out_channels = 512, kernel_size = 3, padding = 1),\n",
        "            nn.LeakyReLU(inplace = True),\n",
        "            nn.BatchNorm2d(512),\n",
        "            nn.MaxPool2d(kernel_size = 2))\n",
        "\n",
        "\n",
        "        \n",
        "        self.classify = nn.Sequential(\n",
        "\n",
        "            nn.Dropout(p=0.2),\n",
        "            nn.Linear(in_features = 512 * 8 * 8, out_features = 512),\n",
        "            nn.LeakyReLU(inplace = True),\n",
        "\n",
        "            nn.Linear(in_features = 512, out_features = self.categories),\n",
        "        )       \n",
        "\n",
        "    def forward(self, x):\n",
        "        x1 = self.block1(x)\n",
        "        x2 = self.block2(x1)\n",
        "        x3 = self.block3(x2)\n",
        "        x4 = x3.view(x3.size(0), -1)\n",
        "        x5 = self.classify(x4)\n",
        "        return x5, x4, x3, x2 , x1, x\n",
        "\n",
        "# instantiate model\n",
        "Model = Model()\n",
        "Model.load_state_dict(torch.load('/content/drive/MyDrive/Model_CNN'))\n",
        "Model.eval()"
      ],
      "execution_count": 79,
      "outputs": [
        {
          "output_type": "execute_result",
          "data": {
            "text/plain": [
              "Model(\n",
              "  (block1): Sequential(\n",
              "    (0): Conv2d(3, 128, kernel_size=(3, 3), stride=(1, 1), padding=(1, 1))\n",
              "    (1): LeakyReLU(negative_slope=0.01, inplace=True)\n",
              "    (2): BatchNorm2d(128, eps=1e-05, momentum=0.1, affine=True, track_running_stats=True)\n",
              "    (3): MaxPool2d(kernel_size=2, stride=2, padding=0, dilation=1, ceil_mode=False)\n",
              "  )\n",
              "  (block2): Sequential(\n",
              "    (0): Conv2d(128, 256, kernel_size=(3, 3), stride=(1, 1), padding=(1, 1))\n",
              "    (1): LeakyReLU(negative_slope=0.01, inplace=True)\n",
              "    (2): BatchNorm2d(256, eps=1e-05, momentum=0.1, affine=True, track_running_stats=True)\n",
              "    (3): MaxPool2d(kernel_size=2, stride=2, padding=0, dilation=1, ceil_mode=False)\n",
              "  )\n",
              "  (block3): Sequential(\n",
              "    (0): Conv2d(256, 512, kernel_size=(3, 3), stride=(1, 1), padding=(1, 1))\n",
              "    (1): LeakyReLU(negative_slope=0.01, inplace=True)\n",
              "    (2): BatchNorm2d(512, eps=1e-05, momentum=0.1, affine=True, track_running_stats=True)\n",
              "    (3): MaxPool2d(kernel_size=2, stride=2, padding=0, dilation=1, ceil_mode=False)\n",
              "  )\n",
              "  (classify): Sequential(\n",
              "    (0): Dropout(p=0.2, inplace=False)\n",
              "    (1): Linear(in_features=32768, out_features=512, bias=True)\n",
              "    (2): LeakyReLU(negative_slope=0.01, inplace=True)\n",
              "    (3): Linear(in_features=512, out_features=38, bias=True)\n",
              "  )\n",
              ")"
            ]
          },
          "metadata": {
            "tags": []
          },
          "execution_count": 79
        }
      ]
    },
    {
      "cell_type": "code",
      "metadata": {
        "colab": {
          "base_uri": "https://localhost:8080/",
          "height": 35
        },
        "id": "kO7U_WF7rUj4",
        "outputId": "17317209-83ee-46f6-a698-6909f073e2cf"
      },
      "source": [
        "import cv2\n",
        "img = torch.tensor(cv2.imread('/content/026bd735-b9f4-4eab-86f3-23df15dbec95___R.S_HL 7938 copy.jpg'))\n",
        "img = img.reshape(1,3,256,256)\n",
        "img = img.float()\n",
        "img = img.cuda()\n",
        "diseases[model(img).argmax().item()]"
      ],
      "execution_count": 94,
      "outputs": [
        {
          "output_type": "execute_result",
          "data": {
            "application/vnd.google.colaboratory.intrinsic+json": {
              "type": "string"
            },
            "text/plain": [
              "'Tomato___healthy'"
            ]
          },
          "metadata": {
            "tags": []
          },
          "execution_count": 94
        }
      ]
    },
    {
      "cell_type": "code",
      "metadata": {
        "id": "vGJbk3i-rBHW"
      },
      "source": [
        ""
      ],
      "execution_count": null,
      "outputs": []
    }
  ]
}